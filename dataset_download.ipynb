{
  "nbformat": 4,
  "nbformat_minor": 0,
  "metadata": {
    "colab": {
      "name": "dataset_download.ipynb",
      "provenance": [],
      "mount_file_id": "1EhuT3MvsAsJQsf5zjZ5IrAbmQa1GMivY",
      "authorship_tag": "ABX9TyOjqru8mRQ5NDL0qiP3ILdT",
      "include_colab_link": true
    },
    "kernelspec": {
      "name": "python3",
      "display_name": "Python 3"
    },
    "language_info": {
      "name": "python"
    }
  },
  "cells": [
    {
      "cell_type": "markdown",
      "metadata": {
        "id": "view-in-github",
        "colab_type": "text"
      },
      "source": [
        "<a href=\"https://colab.research.google.com/github/dafisilva/Projeto_DACO/blob/main/dataset_download.ipynb\" target=\"_parent\"><img src=\"https://colab.research.google.com/assets/colab-badge.svg\" alt=\"Open In Colab\"/></a>"
      ]
    },
    {
      "cell_type": "markdown",
      "source": [
        "# Dataset download from Kaggle to Google Drive\n",
        "\n"
      ],
      "metadata": {
        "id": "1nJ_dlz_3xjG"
      }
    },
    {
      "cell_type": "code",
      "metadata": {
        "id": "hiuCKnpw3ctN"
      },
      "source": [
        "!pip uninstall -y kaggle\n",
        "!pip install --upgrade pip\n",
        "!pip install kaggle==1.5.6\n",
        "! cp kaggle.json ~/.kaggle/\n",
        "! chmod 600 ~/.kaggle/kaggle.json\n",
        "\n",
        "%cd /content/drive/MyDrive/DACO/Datasets\n",
        "!kaggle competitions download -c sartorius-cell-instance-segmentation\n",
        "!unzip /content/drive/MyDrive/DACO/Datasets/sartorius-cell-instance-segmentation.zip -d /content/drive/MyDrive/DACO/Datasets/"
      ],
      "execution_count": null,
      "outputs": []
    }
  ]
}